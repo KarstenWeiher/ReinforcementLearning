{
 "cells": [
  {
   "cell_type": "code",
   "execution_count": 129,
   "metadata": {},
   "outputs": [],
   "source": [
    "import numpy as np"
   ]
  },
  {
   "cell_type": "code",
   "execution_count": 298,
   "metadata": {},
   "outputs": [
    {
     "name": "stdout",
     "output_type": "stream",
     "text": [
      "W1=array([[ 0.16398025,  0.13782668,  0.01902972,  0.2762423 , -0.05351312,\n",
      "        -0.10859805, -0.48211178, -1.01243345, -0.18728845],\n",
      "       [ 0.34425722,  0.63490566, -0.38263529, -0.10981032, -0.1485874 ,\n",
      "        -0.36745441, -0.22019292,  0.65648781, -0.06217177],\n",
      "       [ 0.00910355,  0.11803658, -0.39973997, -0.10408328, -0.06160152,\n",
      "         0.64590874,  0.0557594 , -0.42742566,  0.4278595 ],\n",
      "       [ 0.8069631 ,  0.35126014,  0.51547828, -0.25349181, -0.04062494,\n",
      "        -0.44898085, -0.2765095 ,  0.12688572,  0.01766297],\n",
      "       [-0.02135362,  0.36555394, -0.07914732,  0.09160859, -0.09910657,\n",
      "        -0.31553757,  0.05947518, -0.20134149,  0.31935984],\n",
      "       [-0.70245869,  0.38564473,  0.1562766 ,  0.26826128,  0.4609437 ,\n",
      "         0.07650569, -0.06513652,  0.36672963, -0.13891527],\n",
      "       [ 0.16617793, -0.38890609,  0.13127798,  0.16183769,  1.07110408,\n",
      "         0.02249781,  0.02657527, -0.13402129,  0.44636766],\n",
      "       [ 0.01739804, -0.20990466, -0.17972936, -0.20266385,  0.24172949,\n",
      "        -0.19634728,  0.19237102, -0.77435431, -0.00291739],\n",
      "       [ 0.00157799,  0.1558182 , -0.00521654,  0.05814192,  0.04514494,\n",
      "        -0.60734354,  0.3644639 , -0.61318312, -0.18003786]])\n",
      " b1=array([-0.42473256, -0.32957839,  0.31200992,  0.307031  , -0.11173296,\n",
      "       -0.43035782,  0.25273765,  0.1415595 , -0.66133624])\n"
     ]
    }
   ],
   "source": [
    "# initialize NN and set parameters\n",
    "input_size = 9 \n",
    "output_size = 9\n",
    "epsilon = 0.0 # Probabilty to take random actions\n",
    "gamma = 0.7 # Discount factor\n",
    "learning_rate = 1e-3\n",
    "\n",
    "W1 = np.random.randn(input_size, output_size) / np.sqrt(output_size)\n",
    "b1 = np.random.randn(output_size) / np.sqrt(output_size)\n",
    "\n",
    "def forward_pass(x):\n",
    "    return np.dot(x,W1) + b1\n",
    "\n",
    "def backward_pass(X, Y_diff):\n",
    "    dW = np.dot(X.T,Y_diff)\n",
    "    db = np.mean(Y_diff, axis = 0)\n",
    "    return dW, db\n",
    "\n",
    "def get_propabilities(x):\n",
    "    return np.exp(x)/np.sum(np.exp(x))\n",
    "\n",
    "\n",
    "print(f'{W1=}\\n {b1=}') "
   ]
  },
  {
   "cell_type": "code",
   "execution_count": 131,
   "metadata": {},
   "outputs": [
    {
     "name": "stdout",
     "output_type": "stream",
     "text": [
      "logits=array([-0.44920216,  0.2333591 ,  0.50280206, -0.22774109,  0.49907184,\n",
      "       -1.63922816,  0.18299617, -0.15587364, -1.04781754])\n",
      " probabilities=array([0.07420931, 0.14685577, 0.1922687 , 0.0926057 , 0.19155283,\n",
      "       0.02257546, 0.13964283, 0.09950602, 0.04078336])\n"
     ]
    }
   ],
   "source": [
    "dummy_x = np.random.randn(9)\n",
    "\n",
    "logits = forward_pass(dummy_x)\n",
    "probabilities = get_propabilities(logits)\n",
    "print(f'{logits=}\\n {probabilities=}')"
   ]
  },
  {
   "cell_type": "code",
   "execution_count": 132,
   "metadata": {},
   "outputs": [],
   "source": [
    "def print_board(s):\n",
    "    x = ['-', 'x', 'o']\n",
    "    print(f' [{x[s[0]]} {x[s[1]]} {x[s[2]]}] \\n [{x[s[3]]} {x[s[4]]} {x[s[5]]}] \\n [{x[s[6]]} {x[s[7]]} {x[s[8]]}] \\n')\n",
    "\n",
    "def get_discounted_rewards(actions, reward):\n",
    "    rewards = [reward * gamma**i for i in range(len(actions))]\n",
    "    return rewards[::-1]    "
   ]
  },
  {
   "cell_type": "code",
   "execution_count": 187,
   "metadata": {},
   "outputs": [],
   "source": [
    "# define game loop. Start with the Ai always starting and the opponent going second\n",
    "ai_token = 1\n",
    "opponent_token = 2\n",
    "\n",
    "def take_random_action(board, token):\n",
    "    free_indices = [i for i, val in enumerate(board) if val == 0]\n",
    "    action = np.random.choice(free_indices)\n",
    "    board[action] = token\n",
    "    return action, board\n",
    "\n",
    "def take_action(board, logits, token):\n",
    "    if epsilon > np.random.random_sample():\n",
    "        action, board = take_random_action(board, token)\n",
    "    else:\n",
    "        free_indices = [i for i, val in enumerate(board) if val == 0]\n",
    "        l_free = logits[free_indices] # get logits of possible moves\n",
    "        p = get_propabilities(l_free)\n",
    "        action = np.random.choice(free_indices, p=p)\n",
    "        board[action] = token\n",
    "    return action, board\n",
    "\n",
    "def check_winner(board):\n",
    "\n",
    "    winning_combinations = [\n",
    "        (0, 1, 2), (3, 4, 5), (6, 7, 8),\n",
    "        (0, 3, 6), (1, 4, 7), (2, 5, 8),\n",
    "        (0, 4, 8), (2, 4, 6)\n",
    "    ]\n",
    "    for combo in winning_combinations:\n",
    "        if board[combo[0]] == board[combo[1]] == board[combo[2]] != 0:\n",
    "            return board[combo[0]] \n",
    "    return 0\n",
    "\n",
    "def get_reward(winner):\n",
    "    if winner == ai_token:\n",
    "        return 1\n",
    "    elif winner == opponent_token:\n",
    "        return -1\n",
    "    else:\n",
    "        return 0\n",
    "\n",
    "def play_game(verbose = False):\n",
    "    board = [0] * 9\n",
    "    boards_arr = []\n",
    "    actions_arr = []\n",
    "    logits_arr = []\n",
    "    for t in range(9):\n",
    "        if t%2 == 0:\n",
    "            boards_arr.append(board.copy())\n",
    "            logits = forward_pass(board)\n",
    "            action, board = take_action(board, logits, ai_token)\n",
    "            actions_arr.append(action) \n",
    "            logits_arr.append(logits)\n",
    "        else:\n",
    "            action, board = take_random_action(board, opponent_token)   \n",
    "        winner = check_winner(board)\n",
    "        reward = get_reward(winner)\n",
    "        if verbose:\n",
    "            print_board(board)\n",
    "        if reward:\n",
    "            break    \n",
    "    return boards_arr, actions_arr, logits_arr, reward\n",
    "\n",
    "boards, actions, logits, reward = play_game()"
   ]
  },
  {
   "cell_type": "code",
   "execution_count": 134,
   "metadata": {},
   "outputs": [
    {
     "name": "stdout",
     "output_type": "stream",
     "text": [
      "[0.3429999999999999, 0.48999999999999994, 0.7, 1.0]\n"
     ]
    }
   ],
   "source": [
    "rewards = get_discounted_rewards(actions, reward)\n",
    "print(rewards)"
   ]
  },
  {
   "cell_type": "code",
   "execution_count": 135,
   "metadata": {},
   "outputs": [
    {
     "name": "stdout",
     "output_type": "stream",
     "text": [
      "actions=[4, 0, 3, 6] \n",
      " logits=[array([-0.07448157, -0.51780425, -0.08879829,  0.41894532, -0.51326728,\n",
      "       -0.71489169, -0.0603893 , -0.03256772, -0.33317235]), array([ 1.39514956, -2.20877258,  0.25565649,  0.28250359, -1.6408395 ,\n",
      "        0.39951564,  0.19126359, -0.4568058 , -0.42526926]), array([ 0.93492332, -0.6777083 , -1.07536591,  0.08331873, -1.65254216,\n",
      "        1.24927242,  0.76636498, -0.21948233, -1.48464362]), array([ 1.46695489, -1.42480559, -1.94351699,  0.65118643, -2.50910046,\n",
      "        0.90646256,  1.26078212,  0.17534536, -0.90762202])]\n"
     ]
    }
   ],
   "source": [
    "print(f'{actions=} \\n {logits=}')"
   ]
  },
  {
   "cell_type": "code",
   "execution_count": 305,
   "metadata": {},
   "outputs": [
    {
     "name": "stdout",
     "output_type": "stream",
     "text": [
      "0.554\n",
      "0.593\n",
      "0.555\n",
      "0.562\n",
      "0.58\n",
      "0.575\n",
      "0.564\n",
      "0.538\n",
      "0.551\n",
      "0.574\n",
      "(3898, 9)\n",
      "(3898, 9)\n",
      "(3898,)\n"
     ]
    }
   ],
   "source": [
    "episodes = 10 # Do 10 training episodes\n",
    "n = 1000 # play 1000 games\n",
    "\n",
    "def get_ydiff(logits, actions):\n",
    "    y_diff = []\n",
    "    for lg, a in zip(logits, actions):\n",
    "        act_arr = [0] * 9\n",
    "        act_arr[a] = 1\n",
    "        y_diff.append(act_arr - get_propabilities(lg))\n",
    "    return y_diff\n",
    "\n",
    "for e in range(episodes):\n",
    "    X, y_diff, R = [], [], [] # X : Training Data of board states, y_diff Difference between action taken and output probabilities\n",
    "    R_sum = 0\n",
    "    # R: Rewards for the (X,y) samples\n",
    "    for i in range(n):\n",
    "        boards, actions, logits, reward = play_game()\n",
    "        rewards = get_discounted_rewards(actions, reward)\n",
    "        diff = get_ydiff(logits, actions)\n",
    "\n",
    "        X.append(boards)\n",
    "        y_diff.append(diff)\n",
    "        R.append(rewards)\n",
    "        R_sum += reward\n",
    "\n",
    "    # reduce dimensionality to avoid problems with different game length\n",
    "    Xeps = np.array([b for g in X for b in g]) \n",
    "    yeps = np.array([y for g in y_diff for y in g])\n",
    "    Reps = np.array([r for g in R for r in g])\n",
    "\n",
    "    # normalize the rewards\n",
    "    Reps -= np.mean(Reps)\n",
    "    Reps /= np.std(Reps)\n",
    "\n",
    "    yeps *= Reps[:, np.newaxis] # mutiply gradient and reward\n",
    "\n",
    "    dW, db = backward_pass(Xeps, yeps)\n",
    "    W1 += learning_rate*dW\n",
    "    b1 += learning_rate*db\n",
    "\n",
    "    print(R_sum/n)\n",
    "\n",
    "print(Xeps.shape)\n",
    "print(yeps.shape)\n",
    "print(Reps.shape)\n"
   ]
  },
  {
   "cell_type": "code",
   "execution_count": 258,
   "metadata": {},
   "outputs": [
    {
     "data": {
      "text/plain": [
       "array([0.1735514 , 0.09363312, 0.12925895, 0.03711028, 0.27139854,\n",
       "       0.01675   , 0.13985467, 0.01363825, 0.12480478])"
      ]
     },
     "execution_count": 258,
     "metadata": {},
     "output_type": "execute_result"
    }
   ],
   "source": [
    "board = [0] * 9\n",
    "board[3] = 1\n",
    "board[1] = 2\n",
    "logits = forward_pass(board)\n",
    "probs = get_propabilities(logits)\n",
    "probs"
   ]
  },
  {
   "cell_type": "code",
   "execution_count": 240,
   "metadata": {},
   "outputs": [
    {
     "name": "stdout",
     "output_type": "stream",
     "text": [
      " [- - -] \n",
      " [- x -] \n",
      " [- - -] \n",
      "\n",
      " [o - -] \n",
      " [- x -] \n",
      " [- - -] \n",
      "\n",
      " [o - x] \n",
      " [- x -] \n",
      " [- - -] \n",
      "\n",
      " [o - x] \n",
      " [- x -] \n",
      " [o - -] \n",
      "\n",
      " [o - x] \n",
      " [- x -] \n",
      " [o - x] \n",
      "\n",
      " [o - x] \n",
      " [o x -] \n",
      " [o - x] \n",
      "\n"
     ]
    }
   ],
   "source": [
    "epsilon = 0.0\n",
    "test = play_game(verbose = True)\n"
   ]
  },
  {
   "cell_type": "code",
   "execution_count": 139,
   "metadata": {},
   "outputs": [
    {
     "ename": "ValueError",
     "evalue": "setting an array element with a sequence. The requested array has an inhomogeneous shape after 1 dimensions. The detected shape was (10,) + inhomogeneous part.",
     "output_type": "error",
     "traceback": [
      "\u001b[0;31m---------------------------------------------------------------------------\u001b[0m",
      "\u001b[0;31mValueError\u001b[0m                                Traceback (most recent call last)",
      "Cell \u001b[0;32mIn[139], line 1\u001b[0m\n\u001b[0;32m----> 1\u001b[0m \u001b[43mnp\u001b[49m\u001b[38;5;241;43m.\u001b[39;49m\u001b[43msum\u001b[49m\u001b[43m(\u001b[49m\u001b[43mR\u001b[49m\u001b[43m)\u001b[49m\n",
      "File \u001b[0;32m~/miniconda3/envs/pytorch/lib/python3.12/site-packages/numpy/core/fromnumeric.py:2313\u001b[0m, in \u001b[0;36msum\u001b[0;34m(a, axis, dtype, out, keepdims, initial, where)\u001b[0m\n\u001b[1;32m   2310\u001b[0m         \u001b[38;5;28;01mreturn\u001b[39;00m out\n\u001b[1;32m   2311\u001b[0m     \u001b[38;5;28;01mreturn\u001b[39;00m res\n\u001b[0;32m-> 2313\u001b[0m \u001b[38;5;28;01mreturn\u001b[39;00m \u001b[43m_wrapreduction\u001b[49m\u001b[43m(\u001b[49m\u001b[43ma\u001b[49m\u001b[43m,\u001b[49m\u001b[43m \u001b[49m\u001b[43mnp\u001b[49m\u001b[38;5;241;43m.\u001b[39;49m\u001b[43madd\u001b[49m\u001b[43m,\u001b[49m\u001b[43m \u001b[49m\u001b[38;5;124;43m'\u001b[39;49m\u001b[38;5;124;43msum\u001b[39;49m\u001b[38;5;124;43m'\u001b[39;49m\u001b[43m,\u001b[49m\u001b[43m \u001b[49m\u001b[43maxis\u001b[49m\u001b[43m,\u001b[49m\u001b[43m \u001b[49m\u001b[43mdtype\u001b[49m\u001b[43m,\u001b[49m\u001b[43m \u001b[49m\u001b[43mout\u001b[49m\u001b[43m,\u001b[49m\u001b[43m \u001b[49m\u001b[43mkeepdims\u001b[49m\u001b[38;5;241;43m=\u001b[39;49m\u001b[43mkeepdims\u001b[49m\u001b[43m,\u001b[49m\n\u001b[1;32m   2314\u001b[0m \u001b[43m                      \u001b[49m\u001b[43minitial\u001b[49m\u001b[38;5;241;43m=\u001b[39;49m\u001b[43minitial\u001b[49m\u001b[43m,\u001b[49m\u001b[43m \u001b[49m\u001b[43mwhere\u001b[49m\u001b[38;5;241;43m=\u001b[39;49m\u001b[43mwhere\u001b[49m\u001b[43m)\u001b[49m\n",
      "File \u001b[0;32m~/miniconda3/envs/pytorch/lib/python3.12/site-packages/numpy/core/fromnumeric.py:88\u001b[0m, in \u001b[0;36m_wrapreduction\u001b[0;34m(obj, ufunc, method, axis, dtype, out, **kwargs)\u001b[0m\n\u001b[1;32m     85\u001b[0m         \u001b[38;5;28;01melse\u001b[39;00m:\n\u001b[1;32m     86\u001b[0m             \u001b[38;5;28;01mreturn\u001b[39;00m reduction(axis\u001b[38;5;241m=\u001b[39maxis, out\u001b[38;5;241m=\u001b[39mout, \u001b[38;5;241m*\u001b[39m\u001b[38;5;241m*\u001b[39mpasskwargs)\n\u001b[0;32m---> 88\u001b[0m \u001b[38;5;28;01mreturn\u001b[39;00m \u001b[43mufunc\u001b[49m\u001b[38;5;241;43m.\u001b[39;49m\u001b[43mreduce\u001b[49m\u001b[43m(\u001b[49m\u001b[43mobj\u001b[49m\u001b[43m,\u001b[49m\u001b[43m \u001b[49m\u001b[43maxis\u001b[49m\u001b[43m,\u001b[49m\u001b[43m \u001b[49m\u001b[43mdtype\u001b[49m\u001b[43m,\u001b[49m\u001b[43m \u001b[49m\u001b[43mout\u001b[49m\u001b[43m,\u001b[49m\u001b[43m \u001b[49m\u001b[38;5;241;43m*\u001b[39;49m\u001b[38;5;241;43m*\u001b[39;49m\u001b[43mpasskwargs\u001b[49m\u001b[43m)\u001b[49m\n",
      "\u001b[0;31mValueError\u001b[0m: setting an array element with a sequence. The requested array has an inhomogeneous shape after 1 dimensions. The detected shape was (10,) + inhomogeneous part."
     ]
    }
   ],
   "source": [
    "np.sum(R)"
   ]
  },
  {
   "cell_type": "code",
   "execution_count": 128,
   "metadata": {},
   "outputs": [
    {
     "name": "stdout",
     "output_type": "stream",
     "text": [
      "[[-2.9257598  -0.12808648  0.67169048 -0.46612859 -1.24246901  5.51359058\n",
      "  -5.19300185  1.01586     2.75430468]\n",
      " [ 1.73272651 -0.90027208  2.97492357 -0.76716662 -2.69652687  3.08612168\n",
      "  -1.5684573  -3.09438909  1.2330402 ]\n",
      " [-0.53691396  0.8506162  -1.9221383   1.62784548 -2.74632659  2.66225984\n",
      "  -1.06017609 -0.69583394  1.82066737]\n",
      " [ 1.88056057 -0.58182148 -2.22157024 -0.93973921 -2.29289809  4.598211\n",
      "  -4.42971036  1.65559914  2.33136868]\n",
      " [-1.41193656 -0.30103781  4.46352023  2.41074382 -6.91654863  3.13049463\n",
      "  -0.75365271 -1.33327531  0.71169234]\n",
      " [-0.19486346  1.47750293 -0.7810992   1.1693585   0.57564645 -0.82242128\n",
      "  -4.02281438  0.05167864  2.5470118 ]\n",
      " [-1.9737401  -0.15485452  2.55924902 -0.57359852 -0.91462379  3.60481575\n",
      "  -3.53194071 -0.82379213  1.80848501]\n",
      " [ 0.20398151  0.69563055 -1.09549952  2.536647   -2.79908921  2.29578348\n",
      "  -2.68699572 -0.80254082  1.65208273]\n",
      " [-4.33880452  1.64694909  4.70475007  3.31689319 -9.44965072  5.91526758\n",
      "   0.67899243 -1.96336741 -0.5110297 ]]\n",
      "[-0.03015157 -0.01571044 -0.00831973  0.02752672 -0.04248359  0.10328583\n",
      " -0.07905873  0.00230958  0.04260193]\n"
     ]
    }
   ],
   "source": [
    "print(np.dot(Xeps.T,yeps))\n",
    "print(np.mean(yeps, axis = 0))"
   ]
  }
 ],
 "metadata": {
  "kernelspec": {
   "display_name": "pytorch",
   "language": "python",
   "name": "python3"
  },
  "language_info": {
   "codemirror_mode": {
    "name": "ipython",
    "version": 3
   },
   "file_extension": ".py",
   "mimetype": "text/x-python",
   "name": "python",
   "nbconvert_exporter": "python",
   "pygments_lexer": "ipython3",
   "version": "3.12.0"
  }
 },
 "nbformat": 4,
 "nbformat_minor": 2
}

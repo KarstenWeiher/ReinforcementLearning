{
 "cells": [
  {
   "cell_type": "code",
   "execution_count": 3,
   "metadata": {},
   "outputs": [],
   "source": [
    "import numpy as np"
   ]
  },
  {
   "cell_type": "code",
   "execution_count": 313,
   "metadata": {},
   "outputs": [],
   "source": [
    "# initialize NN and set parameters\n",
    "input_size = 9 \n",
    "output_size = 9\n",
    "epsilon = 0.0 # Probabilty to take random actions\n",
    "gamma = 0.7 # Discount factor\n",
    "learning_rate = 1e-2\n",
    "decay_rate = 0.99\n",
    "\n",
    "W1 = np.random.randn(input_size, output_size) / np.sqrt(output_size)\n",
    "b1 = np.random.randn(output_size) / np.sqrt(output_size)\n",
    "\n",
    "def forward_pass(x):\n",
    "    return np.dot(x,W1) + b1\n",
    "\n",
    "def backward_pass(X, Y_diff):\n",
    "    dW = np.dot(X.T,Y_diff)\n",
    "    db = np.mean(Y_diff, axis = 0)\n",
    "    return dW, db\n",
    "\n",
    "def get_propabilities(x):\n",
    "    z = x - np.max(x)\n",
    "    return np.exp(z)/np.sum(np.exp(z))\n",
    "\n",
    "\n",
    "#print(f'{W1=}\\n {b1=}') "
   ]
  },
  {
   "cell_type": "code",
   "execution_count": 19,
   "metadata": {},
   "outputs": [],
   "source": [
    "class LinearModel:\n",
    "    def __init__(self):\n",
    "        self.W1 = np.random.randn(output_size, input_size) / np.sqrt(input_size)\n",
    "        self.b1 = np.random.randn(output_size) / np.sqrt(output_size)\n",
    "\n",
    "    def forward_pass(self, x):\n",
    "        x1 =  np.dot(self.W1, x) + self.b1\n",
    "        return x1, None # no hidden layer, so we output a None \n",
    "    \n",
    "    def backward_pass(self, X, Y_diff):\n",
    "        dW = np.dot(X.T,Y_diff)\n",
    "        db = np.mean(Y_diff, axis = 0)\n",
    "        return {'W1':dW, 'b1':db}\n",
    "    \n",
    "    def get_propabilities(self, x):\n",
    "        return np.exp(x)/np.sum(np.exp(x))"
   ]
  },
  {
   "cell_type": "code",
   "execution_count": 194,
   "metadata": {},
   "outputs": [],
   "source": [
    "class NonlinearModel:\n",
    "    def __init__(self, hl_size = 9):\n",
    "        self.W1 = np.random.randn(hl_size, input_size) / np.sqrt(input_size)\n",
    "        self.W2 = np.random.randn(output_size, hl_size) / np.sqrt(hl_size)\n",
    "        self.b1 = np.random.randn(hl_size) / np.sqrt(hl_size)\n",
    "\n",
    "    def preprocessing(self,x):\n",
    "        x[x == 2] = -1\n",
    "        return x\n",
    "\n",
    "    def forward_pass(self, x):\n",
    "        x1 =  np.dot(self.W1, x) + self.b1\n",
    "        x1[x1 < 0] = 0 # relu\n",
    "        x2 = np.dot(self.W2, x1)\n",
    "        return x2, x1\n",
    "    \n",
    "    def backward_pass(self, X, H, Y_diff):\n",
    "        #dW2 = np.dot(H.T, Y_diff)\n",
    "        dW2 = np.dot(Y_diff.T, H)\n",
    "        dh = np.dot(Y_diff, self.W2)\n",
    "        #dh = np.dot(self.W2.T, Y_diff)\n",
    "        dh[H <= 0] = 0 # backpro prelu\n",
    "        db = np.mean(dh, axis = 0)\n",
    "        dW1 = np.dot(dh.T, X)\n",
    "        return {'W1':dW1, 'W2':dW2, 'b1': db}\n",
    "    \n",
    "    def get_propabilities(self, x):\n",
    "        return np.exp(x)/np.sum(np.exp(x))\n"
   ]
  },
  {
   "cell_type": "code",
   "execution_count": 139,
   "metadata": {},
   "outputs": [
    {
     "name": "stdout",
     "output_type": "stream",
     "text": [
      "logits=array([-0.95710131,  0.55987376, -0.01140718,  1.13268591,  0.80532016,\n",
      "        0.74728898, -0.04294301, -0.56044079, -1.33599352])\n",
      " probabilities=array([0.03104923, 0.14153529, 0.07993935, 0.25097699, 0.18090925,\n",
      "       0.17070968, 0.07745773, 0.04616558, 0.02125691])\n"
     ]
    }
   ],
   "source": [
    "dummy_x = np.random.randn(9)\n",
    "\n",
    "logits = forward_pass(dummy_x)\n",
    "probabilities = get_propabilities(logits)\n",
    "print(f'{logits=}\\n {probabilities=}')"
   ]
  },
  {
   "cell_type": "code",
   "execution_count": 140,
   "metadata": {},
   "outputs": [],
   "source": [
    "def print_board(s):\n",
    "    x = ['-', 'x', 'o']\n",
    "    print(f' [{x[s[0]]} {x[s[1]]} {x[s[2]]}] \\n [{x[s[3]]} {x[s[4]]} {x[s[5]]}] \\n [{x[s[6]]} {x[s[7]]} {x[s[8]]}] \\n')\n",
    "\n",
    "def get_discounted_rewards(actions, reward):\n",
    "    rewards = [reward * gamma**i for i in range(len(actions))]\n",
    "    return rewards[::-1]    "
   ]
  },
  {
   "cell_type": "code",
   "execution_count": 141,
   "metadata": {},
   "outputs": [
    {
     "data": {
      "text/plain": [
       "{'boards': [[0, 0, 0, 0, 0, 0, 0, 0, 0],\n",
       "  [0, 0, 0, 0, 0, 0, 2, 1, 0],\n",
       "  [1, 2, 0, 0, 0, 0, 2, 1, 0],\n",
       "  [1, 2, 0, 1, 0, 2, 2, 1, 0],\n",
       "  [1, 2, 0, 1, 1, 2, 2, 1, 2]],\n",
       " 'actions': [np.int64(7), np.int64(0), np.int64(3), np.int64(4), np.int64(2)],\n",
       " 'logits': [array([ 0.21943439, -0.2008072 ,  0.04274944,  0.40285874,  0.21509398,\n",
       "         -0.18953332,  0.05873338, -0.33457895, -0.03106658]),\n",
       "  array([ 1.95359820e-03, -1.17533699e-01,  1.18487732e+00, -2.72131764e-01,\n",
       "          2.10077063e+00,  4.39756342e-01,  4.22660802e-01, -2.22152059e-01,\n",
       "         -6.35460200e-01]),\n",
       "  array([ 0.06764714, -0.17541753,  0.17384759,  0.11718247,  0.40826875,\n",
       "         -0.13879821,  0.13626522, -0.44339534, -0.17991318]),\n",
       "  array([ 0.00084688,  0.0008462 ,  0.0286752 , -0.01119221,  0.05684898,\n",
       "          0.00401656,  0.01151768, -0.01524727, -0.01525358]),\n",
       "  array([ 0.00446975, -0.00437807, -0.00329079,  0.01111013, -0.00012294,\n",
       "         -0.00576231, -0.00282623, -0.00561756,  0.00299077])],\n",
       " 'reward': 0,\n",
       " 'hidden_layer': [array([0.        , 0.06175268, 0.2314667 , 0.13563229, 0.        ,\n",
       "         0.        , 0.16361378, 0.53517413, 0.08642725]),\n",
       "  array([0.        , 1.34887697, 1.33880138, 0.        , 0.        ,\n",
       "         0.        , 0.4750332 , 0.16185569, 0.68450545]),\n",
       "  array([0.        , 0.        , 0.38539105, 0.        , 0.        ,\n",
       "         0.        , 0.40105116, 0.25379114, 0.        ]),\n",
       "  array([0.        , 0.0285032 , 0.03766537, 0.        , 0.        ,\n",
       "         0.        , 0.02488414, 0.        , 0.        ]),\n",
       "  array([0.        , 0.        , 0.        , 0.        , 0.        ,\n",
       "         0.        , 0.        , 0.01622312, 0.        ])]}"
      ]
     },
     "execution_count": 141,
     "metadata": {},
     "output_type": "execute_result"
    }
   ],
   "source": [
    "# define game loop. Start with the Ai always starting and the opponent going second\n",
    "ai_token = 1\n",
    "opponent_token = 2\n",
    "\n",
    "def take_random_action(board, token):\n",
    "    free_indices = [i for i, val in enumerate(board) if val == 0]\n",
    "    action = np.random.choice(free_indices)\n",
    "    board[action] = token\n",
    "    return action, board\n",
    "\n",
    "def take_action(board, logits, token):\n",
    "    if epsilon > np.random.random_sample():\n",
    "        action, board = take_random_action(board, token)\n",
    "    else:\n",
    "        free_indices = [i for i, val in enumerate(board) if val == 0]\n",
    "        l_free = logits[free_indices] # get logits of possible moves\n",
    "        p = get_propabilities(l_free)\n",
    "        action = np.random.choice(free_indices, p=p)\n",
    "        board[action] = token\n",
    "    return action, board\n",
    "\n",
    "def check_winner(board):\n",
    "\n",
    "    winning_combinations = [\n",
    "        (0, 1, 2), (3, 4, 5), (6, 7, 8),\n",
    "        (0, 3, 6), (1, 4, 7), (2, 5, 8),\n",
    "        (0, 4, 8), (2, 4, 6)\n",
    "    ]\n",
    "    for combo in winning_combinations:\n",
    "        if board[combo[0]] == board[combo[1]] == board[combo[2]] != 0:\n",
    "            return board[combo[0]] \n",
    "    return 0\n",
    "\n",
    "def get_reward(winner):\n",
    "    if winner == ai_token:\n",
    "        return 1\n",
    "    elif winner == opponent_token:\n",
    "        return -1\n",
    "    else:\n",
    "        return 0\n",
    "\n",
    "def play_game(model, verbose = False):\n",
    "    board = [0] * 9\n",
    "    boards_arr, actions_arr, logits_arr, h_arr  = [], [], [], []\n",
    "    for t in range(9):\n",
    "        if t%2 == 0:\n",
    "            boards_arr.append(board.copy())\n",
    "            logits, h = model.forward_pass(board)\n",
    "            action, board = take_action(board, logits, ai_token)\n",
    "            actions_arr.append(action) \n",
    "            logits_arr.append(logits)\n",
    "            h_arr.append(h)\n",
    "        else:\n",
    "            action, board = take_random_action(board, opponent_token)   \n",
    "        winner = check_winner(board)\n",
    "        reward = get_reward(winner)\n",
    "        if verbose:\n",
    "            print_board(board)\n",
    "        if reward:\n",
    "            break    \n",
    "    return {'boards': boards_arr, \n",
    "            'actions':actions_arr, \n",
    "            'logits': logits_arr,\n",
    "            'reward': reward,\n",
    "            'hidden_layer': h_arr}\n",
    "\n",
    "model = NonlinearModel()\n",
    "game = play_game(model)\n",
    "game"
   ]
  },
  {
   "cell_type": "code",
   "execution_count": 8,
   "metadata": {},
   "outputs": [
    {
     "name": "stdout",
     "output_type": "stream",
     "text": [
      "[0.0, 0.0, 0.0, 0.0, 0.0]\n"
     ]
    }
   ],
   "source": [
    "rewards = get_discounted_rewards(actions, reward)\n",
    "print(rewards)"
   ]
  },
  {
   "cell_type": "code",
   "execution_count": 9,
   "metadata": {},
   "outputs": [
    {
     "name": "stdout",
     "output_type": "stream",
     "text": [
      "actions=[np.int64(8), np.int64(6), np.int64(1), np.int64(3), np.int64(5)] \n",
      " logits=[array([-0.24099705,  0.13863381, -0.13835625,  0.33455209,  0.08784616,\n",
      "        0.29888912,  0.56022063, -0.08711018,  0.22725257]), array([-1.69209372, -0.249083  ,  0.05398859, -0.47040208, -0.14453246,\n",
      "       -0.03746941,  0.61012092, -0.61968493, -1.43690049]), array([-1.78871478, -0.25637051, -0.85152251, -0.15397983,  0.80712391,\n",
      "       -0.12914771,  0.64956039,  0.201317  , -2.50482501]), array([-1.9241332 , -0.20261841, -0.0610732 , -0.29182636,  1.10871276,\n",
      "       -0.51740419,  0.00783651,  0.6875912 , -1.97572366]), array([-1.94186841,  0.08769638, -0.76587041, -0.19434156,  0.75114375,\n",
      "       -0.06317836, -0.03367245,  1.09518468, -1.10606512])]\n"
     ]
    }
   ],
   "source": [
    "print(f'{actions=} \\n {logits=}')"
   ]
  },
  {
   "cell_type": "code",
   "execution_count": 72,
   "metadata": {},
   "outputs": [
    {
     "data": {
      "text/plain": [
       "dict_keys(['W1', 'W2'])"
      ]
     },
     "execution_count": 72,
     "metadata": {},
     "output_type": "execute_result"
    }
   ],
   "source": [
    "model.__dict__.keys()"
   ]
  },
  {
   "cell_type": "code",
   "execution_count": 76,
   "metadata": {},
   "outputs": [
    {
     "name": "stdout",
     "output_type": "stream",
     "text": [
      "5\n",
      "4\n"
     ]
    }
   ],
   "source": [
    "class Test:\n",
    "    def __init__(self, a):\n",
    "        self.abs = a\n",
    "\n",
    "test = Test(5)\n",
    "print(test.__dict__['abs'])\n",
    "test.__dict__['abs'] = 4\n",
    "print(test.__dict__['abs'])"
   ]
  },
  {
   "cell_type": "code",
   "execution_count": 186,
   "metadata": {},
   "outputs": [
    {
     "name": "stdout",
     "output_type": "stream",
     "text": [
      "W1 (30, 9)\n",
      "W2 (9, 30)\n",
      "b1 (30,)\n"
     ]
    }
   ],
   "source": [
    "for k,v in rmsprop_cache.items():\n",
    "    print(k,v.shape)"
   ]
  },
  {
   "cell_type": "code",
   "execution_count": 334,
   "metadata": {},
   "outputs": [
    {
     "name": "stdout",
     "output_type": "stream",
     "text": [
      "0.2665\n",
      "0.5145\n",
      "0.527\n",
      "0.646\n",
      "0.641\n",
      "0.745\n",
      "0.7665\n",
      "0.7615\n",
      "0.783\n",
      "0.811\n",
      "0.782\n",
      "0.806\n",
      "0.8245\n",
      "0.7725\n",
      "0.785\n",
      "0.7565\n",
      "0.7895\n",
      "0.773\n",
      "0.7725\n",
      "0.752\n",
      "0.7865\n",
      "0.757\n",
      "0.802\n",
      "0.761\n",
      "0.7815\n",
      "0.756\n",
      "0.776\n",
      "0.768\n",
      "0.7595\n",
      "0.7705\n",
      "0.7785\n",
      "0.77\n",
      "0.789\n",
      "0.755\n",
      "0.7575\n",
      "0.7425\n",
      "0.7895\n",
      "0.797\n",
      "0.7555\n",
      "0.765\n",
      "0.7735\n",
      "0.7525\n",
      "0.7725\n",
      "0.7845\n",
      "0.7945\n",
      "0.758\n",
      "0.7565\n",
      "0.785\n",
      "0.7795\n",
      "0.7695\n",
      "0.7565\n",
      "0.768\n",
      "0.7845\n",
      "0.7615\n",
      "0.761\n",
      "0.7765\n",
      "0.767\n",
      "0.7695\n",
      "0.7785\n",
      "0.7475\n",
      "0.756\n",
      "0.7705\n",
      "0.752\n",
      "0.754\n",
      "0.7835\n",
      "0.7765\n",
      "0.7675\n",
      "0.777\n",
      "0.766\n",
      "0.7455\n",
      "0.736\n",
      "0.773\n",
      "0.7695\n",
      "0.773\n",
      "0.761\n",
      "0.7725\n",
      "0.761\n",
      "0.747\n",
      "0.761\n",
      "0.7875\n",
      "0.76\n",
      "0.777\n",
      "0.7785\n",
      "0.7775\n",
      "0.7825\n",
      "0.766\n",
      "0.7755\n",
      "0.7655\n",
      "0.755\n",
      "0.7295\n",
      "0.7435\n",
      "0.7575\n",
      "0.7715\n",
      "0.7345\n",
      "0.7655\n",
      "0.771\n",
      "0.7665\n",
      "0.7595\n",
      "0.7625\n",
      "0.743\n"
     ]
    },
    {
     "data": {
      "text/plain": [
       "[<matplotlib.lines.Line2D at 0x22e711b4830>]"
      ]
     },
     "execution_count": 334,
     "metadata": {},
     "output_type": "execute_result"
    },
    {
     "data": {
      "image/png": "[encoded data removed]",
      "text/plain": [
       "<Figure size 640x480 with 1 Axes>"
      ]
     },
     "metadata": {},
     "output_type": "display_data"
    }
   ],
   "source": [
    "episodes = 100 # Do 10 training episodes\n",
    "n = 2000 # play 1000 games\n",
    "\n",
    "def get_ydiff(logits, actions):\n",
    "    y_diff = []\n",
    "    for lg, a in zip(logits, actions):\n",
    "        act_arr = [0] * 9\n",
    "        act_arr[a] = 1\n",
    "        y_diff.append(act_arr - get_propabilities(lg))\n",
    "    return y_diff\n",
    "\n",
    "\n",
    "model = NonlinearModel(hl_size=100)\n",
    "rmsprop_cache = { k : np.zeros_like(v) for k,v in model.__dict__.items() } # rmsprop memory\n",
    "Rout = []\n",
    "\n",
    "for e in range(episodes):\n",
    "    X, y_diff, R, H = [], [], [], [] # X : Training Data of board states, y_diff Difference between action taken and output probabilities\n",
    "    R_sum = 0\n",
    "    # R: Rewards for the (X,y) samples, H: Hidden Layer activations\n",
    "    for i in range(n):\n",
    "        #boards, actions, logits, reward = play_game()\n",
    "        game = play_game(model)\n",
    "        rewards = get_discounted_rewards(game['actions'], game['reward'])\n",
    "        diff = get_ydiff(game['logits'], game['actions'])\n",
    "\n",
    "        X.append(game['boards'])\n",
    "        y_diff.append(diff)\n",
    "        R.append(rewards)\n",
    "        H.append(game['hidden_layer'])\n",
    "        R_sum += game['reward']\n",
    "\n",
    "    # reduce dimensionality to avoid problems with different game length\n",
    "    Xeps = np.array([b for g in X for b in g]) \n",
    "    yeps = np.array([y for g in y_diff for y in g])\n",
    "    Reps = np.array([r for g in R for r in g])\n",
    "    heps = np.array([h for g in H for h in g])\n",
    "\n",
    "    # normalize the rewards\n",
    "    Reps -= np.mean(Reps)\n",
    "    Reps /= np.std(Reps)\n",
    "\n",
    "    yeps *= Reps[:, np.newaxis] # mutiply gradient and reward\n",
    "\n",
    "    #print(Xeps.shape, heps.shape, yeps.shape)\n",
    "\n",
    "    if isinstance(model, LinearModel):\n",
    "        grad = model.backward_pass(Xeps, yeps)\n",
    "    if isinstance(model, NonlinearModel):\n",
    "        grad = model.backward_pass(Xeps, heps, yeps) \n",
    "\n",
    "    for k,v in model.__dict__.items():\n",
    "        #print(k)\n",
    "        g = grad[k] # gradient\n",
    "        rmsprop_cache[k] = decay_rate * rmsprop_cache[k] + (1 - decay_rate) * g**2\n",
    "        model.__dict__[k] += learning_rate * g / (np.sqrt(rmsprop_cache[k]) + 1e-5)\n",
    "    \n",
    "    print(R_sum/n)\n",
    "    Rout.append(R_sum/n)\n",
    "\n",
    "import matplotlib.pyplot as plt \n",
    "\n",
    "plt.plot(Rout)"
   ]
  },
  {
   "cell_type": "code",
   "execution_count": 319,
   "metadata": {},
   "outputs": [
    {
     "data": {
      "text/plain": [
       "array([1.94231450e-02, 4.29172754e-43, 1.09166549e-40, 1.35688274e-47,\n",
       "       1.90812092e-01, 3.46099026e-43, 1.44286786e-40, 1.89529900e-42,\n",
       "       7.89764763e-01])"
      ]
     },
     "execution_count": 319,
     "metadata": {},
     "output_type": "execute_result"
    }
   ],
   "source": [
    "board = [0] * 9\n",
    "#board[3] = 1\n",
    "#board[1] = 2\n",
    "logits, h = model.forward_pass(board)\n",
    "probs = get_propabilities(logits)\n",
    "probs"
   ]
  },
  {
   "cell_type": "code",
   "execution_count": 332,
   "metadata": {},
   "outputs": [
    {
     "name": "stdout",
     "output_type": "stream",
     "text": [
      " [- - -] \n",
      " [- - -] \n",
      " [- - x] \n",
      "\n",
      " [- - -] \n",
      " [- - -] \n",
      " [- o x] \n",
      "\n",
      " [- - -] \n",
      " [- x -] \n",
      " [- o x] \n",
      "\n",
      " [o - -] \n",
      " [- x -] \n",
      " [- o x] \n",
      "\n",
      " [o - -] \n",
      " [- x -] \n",
      " [x o x] \n",
      "\n",
      " [o - -] \n",
      " [o x -] \n",
      " [x o x] \n",
      "\n",
      " [o - x] \n",
      " [o x -] \n",
      " [x o x] \n",
      "\n"
     ]
    }
   ],
   "source": [
    "epsilon = 0.0\n",
    "test = play_game(model, verbose = True)\n"
   ]
  },
  {
   "cell_type": "code",
   "execution_count": null,
   "metadata": {},
   "outputs": [
    {
     "name": "stdout",
     "output_type": "stream",
     "text": [
      "[[-2.9257598  -0.12808648  0.67169048 -0.46612859 -1.24246901  5.51359058\n",
      "  -5.19300185  1.01586     2.75430468]\n",
      " [ 1.73272651 -0.90027208  2.97492357 -0.76716662 -2.69652687  3.08612168\n",
      "  -1.5684573  -3.09438909  1.2330402 ]\n",
      " [-0.53691396  0.8506162  -1.9221383   1.62784548 -2.74632659  2.66225984\n",
      "  -1.06017609 -0.69583394  1.82066737]\n",
      " [ 1.88056057 -0.58182148 -2.22157024 -0.93973921 -2.29289809  4.598211\n",
      "  -4.42971036  1.65559914  2.33136868]\n",
      " [-1.41193656 -0.30103781  4.46352023  2.41074382 -6.91654863  3.13049463\n",
      "  -0.75365271 -1.33327531  0.71169234]\n",
      " [-0.19486346  1.47750293 -0.7810992   1.1693585   0.57564645 -0.82242128\n",
      "  -4.02281438  0.05167864  2.5470118 ]\n",
      " [-1.9737401  -0.15485452  2.55924902 -0.57359852 -0.91462379  3.60481575\n",
      "  -3.53194071 -0.82379213  1.80848501]\n",
      " [ 0.20398151  0.69563055 -1.09549952  2.536647   -2.79908921  2.29578348\n",
      "  -2.68699572 -0.80254082  1.65208273]\n",
      " [-4.33880452  1.64694909  4.70475007  3.31689319 -9.44965072  5.91526758\n",
      "   0.67899243 -1.96336741 -0.5110297 ]]\n",
      "[-0.03015157 -0.01571044 -0.00831973  0.02752672 -0.04248359  0.10328583\n",
      " -0.07905873  0.00230958  0.04260193]\n"
     ]
    }
   ],
   "source": [
    "print(np.dot(Xeps.T,yeps))\n",
    "print(np.mean(yeps, axis = 0))"
   ]
  }
 ],
 "metadata": {
  "kernelspec": {
   "display_name": "Python 3",
   "language": "python",
   "name": "python3"
  },
  "language_info": {
   "codemirror_mode": {
    "name": "ipython",
    "version": 3
   },
   "file_extension": ".py",
   "mimetype": "text/x-python",
   "name": "python",
   "nbconvert_exporter": "python",
   "pygments_lexer": "ipython3",
   "version": "3.12.9"
  }
 },
 "nbformat": 4,
 "nbformat_minor": 2
}

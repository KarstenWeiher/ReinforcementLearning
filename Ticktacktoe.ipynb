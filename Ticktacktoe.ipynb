{
 "cells": [
  {
   "cell_type": "code",
   "execution_count": 1,
   "metadata": {},
   "outputs": [],
   "source": [
    "import numpy as np\n",
    "import math\n",
    "\n"
   ]
  },
  {
   "cell_type": "code",
   "execution_count": 2,
   "metadata": {},
   "outputs": [
    {
     "name": "stdout",
     "output_type": "stream",
     "text": [
      "1\n",
      "0\n",
      "-1\n"
     ]
    },
    {
     "data": {
      "text/plain": [
       "array([ 1,  0, -1])"
      ]
     },
     "execution_count": 2,
     "metadata": {},
     "output_type": "execute_result"
    }
   ],
   "source": [
    "v_states = [\n",
    "            [1,1,1,0,0,0,0,0,0],\n",
    "            [0,0,0,1,1,1,0,0,0],\n",
    "            [0,0,0,0,0,0,1,1,1],\n",
    "            [1,0,0,1,0,0,1,0,0],\n",
    "            [0,1,0,0,1,0,0,1,0],\n",
    "            [0,0,1,0,0,1,0,0,1],\n",
    "            [1,0,0,0,1,0,0,0,1],\n",
    "            [0,0,1,0,1,0,1,0,0],\n",
    "            ]\n",
    "\n",
    "def check_victory(s):\n",
    "    # s is a length 9 array\n",
    "    x = s == 1\n",
    "    o = s == 2\n",
    "    sx = v_states @ x\n",
    "    so = v_states @ o\n",
    "    if sx.max() == 3:\n",
    "        return 1\n",
    "    elif so.max() == 3:\n",
    "        return -1\n",
    "    else:\n",
    "        return 0\n",
    "\n",
    "def check_victory_mat(s):\n",
    "    # s is matrix of n x 9 dimension\n",
    "    # matrix product with vicory states: s @ v = n x 9 @ 9 x 8 -> n x 8 \n",
    "    # a value of 3 in the output means a victory \n",
    "    x = s == 1\n",
    "    o = s == 2\n",
    "    sx = v_states @ np.transpose(x)\n",
    "    so = v_states @ np.transpose(o)\n",
    "    sx = sx.max(axis = 0)\n",
    "    so = so.max(axis = 0)\n",
    "    sx = (sx == 3) * 1\n",
    "    so = (so == 3) * -1\n",
    "    return so + sx\n",
    "   \n",
    "s_test = np.array([[2,1,1,0,0,1,2,2,1],\n",
    "                  [2,1,2,0,0,1,2,2,1],\n",
    "                  [2,1,2,0,0,2,2,2,2]])\n",
    "for s in s_test:\n",
    "    print(check_victory(s))\n",
    "\n",
    "check_victory_mat(s_test)    "
   ]
  },
  {
   "cell_type": "code",
   "execution_count": 3,
   "metadata": {},
   "outputs": [],
   "source": [
    "class enviroment:\n",
    "    def __init__(self):\n",
    "        self.boards = [[],[],[],[],[],[],[],[],[],]\n",
    "        self.connections = [[],[],[],[],[],[],[],[],[],]\n",
    "\n",
    "    def add_board(self, board, order):\n",
    "        con = self.board_exists(board, order)\n",
    "        #if con:\n",
    "        #    self.\n",
    "        \n"
   ]
  },
  {
   "cell_type": "code",
   "execution_count": 4,
   "metadata": {},
   "outputs": [
    {
     "name": "stdout",
     "output_type": "stream",
     "text": [
      "10\n",
      "1\n",
      "9\n",
      "72\n",
      "252\n",
      "756\n",
      "1260\n",
      "1520\n",
      "1140\n",
      "390\n",
      "78\n",
      "\n",
      "\n",
      "9\n",
      "1\n",
      "9\n",
      "72\n",
      "252\n",
      "756\n",
      "1140\n",
      "1372\n",
      "696\n",
      "222\n"
     ]
    }
   ],
   "source": [
    "def print_board(s):\n",
    "    x = ['-', 'x', 'o']\n",
    "    print(f' [{x[s[0]]} {x[s[1]]} {x[s[2]]}] \\n [{x[s[3]]} {x[s[4]]} {x[s[5]]}] \\n [{x[s[6]]} {x[s[7]]} {x[s[8]]}] \\n')\n",
    "\n",
    "def print_states(states):\n",
    "    print(len(states)) \n",
    "    for s in states:\n",
    "        print(len(s)) \n",
    "\n",
    "# get all tick tack toe states. 0 is empty, 1 is x and 2 is o\n",
    "board = [0 for i in range(9)]\n",
    "states = [[board]]\n",
    "current_round_states = [board]\n",
    "next_round_states = []\n",
    "connections = []\n",
    "current_connections = []\n",
    "# iteration over all steps to fill the board\n",
    "for i in range(9):\n",
    "    #iteration over all states of the previous step\n",
    "    for j, s in enumerate(current_round_states):\n",
    "        # check if the step is even. If yes, add a x otherwise an o\n",
    "        if i % 2 == 0:\n",
    "            x = 1\n",
    "        else:\n",
    "            x = 2    \n",
    "        # go through all fields\n",
    "        c = []\n",
    "        for k in range(9):\n",
    "            new_state = list(s).copy()\n",
    "            # check if field is taken\n",
    "            if s[k] == 0:\n",
    "                new_state[k] = x\n",
    "                if new_state in next_round_states:\n",
    "                    c.append(next_round_states.index(new_state))\n",
    "                else:\n",
    "                    next_round_states.append(new_state)\n",
    "                    c.append(next_round_states.index(new_state))\n",
    "        current_connections.append(c)\n",
    "    connections.append(current_connections)\n",
    "    current_connections = []\n",
    "    states.append(next_round_states)\n",
    "    # remove states that won from the next round\n",
    "    victories = check_victory_mat(np.array(next_round_states))\n",
    "    current_round_states = np.array(next_round_states)[victories == 0]\n",
    "    next_round_states = []\n",
    "\n",
    "    \n",
    "print_states(states)\n",
    "print('\\n')\n",
    "print_states(connections)"
   ]
  },
  {
   "cell_type": "code",
   "execution_count": 5,
   "metadata": {},
   "outputs": [
    {
     "data": {
      "text/plain": [
       "[0, 1, 2, 3, 4, 5, 6, 7]"
      ]
     },
     "execution_count": 5,
     "metadata": {},
     "output_type": "execute_result"
    }
   ],
   "source": [
    "connections[1][0]"
   ]
  },
  {
   "cell_type": "code",
   "execution_count": 6,
   "metadata": {},
   "outputs": [
    {
     "data": {
      "text/plain": [
       "[1, 0, 0, 0, 0, 0, 0, 0, 0]"
      ]
     },
     "execution_count": 6,
     "metadata": {},
     "output_type": "execute_result"
    }
   ],
   "source": [
    "states[1][0]"
   ]
  },
  {
   "cell_type": "code",
   "execution_count": 7,
   "metadata": {},
   "outputs": [
    {
     "name": "stdout",
     "output_type": "stream",
     "text": [
      "10\n",
      "1\n",
      "9\n",
      "72\n",
      "252\n",
      "756\n",
      "1260\n",
      "1520\n",
      "1140\n",
      "390\n",
      "78\n",
      "\n",
      "\n",
      "9\n",
      "1\n",
      "9\n",
      "72\n",
      "252\n",
      "756\n",
      "1260\n",
      "1520\n",
      "1140\n",
      "390\n"
     ]
    }
   ],
   "source": [
    "def print_board(s):\n",
    "    x = ['-', 'x', 'o']\n",
    "    print(f' [{x[s[0]]} {x[s[1]]} {x[s[2]]}] \\n [{x[s[3]]} {x[s[4]]} {x[s[5]]}] \\n [{x[s[6]]} {x[s[7]]} {x[s[8]]}] \\n')\n",
    "\n",
    "def print_states(states):\n",
    "    print(len(states)) \n",
    "    for s in states:\n",
    "        print(len(s)) \n",
    "\n",
    "# get all tick tack toe states. 0 is empty, 1 is x and 2 is o\n",
    "board = [0 for i in range(9)]\n",
    "states = [[board]]\n",
    "current_round_states = [board]\n",
    "next_round_states = []\n",
    "connections = []\n",
    "current_connections = []\n",
    "# iteration over all steps to fill the board\n",
    "for i in range(9):\n",
    "    #iteration over all states of the previous step\n",
    "    for j, s in enumerate(current_round_states):\n",
    "        # check if the step is even. If yes, add a x otherwise an o\n",
    "        if i % 2 == 0:\n",
    "            x = 1\n",
    "        else:\n",
    "            x = 2    \n",
    "        # go through all fields\n",
    "        c = []\n",
    "        # check if state was victorios. Only calculate next states if the state wasn't victorios \n",
    "        if check_victory(np.array(s)) == 0:\n",
    "            for k in range(9):\n",
    "                new_state = list(s).copy()\n",
    "                # check if field is taken\n",
    "                if s[k] == 0:\n",
    "                    new_state[k] = x\n",
    "                    if new_state in next_round_states:\n",
    "                        c.append(next_round_states.index(new_state))\n",
    "                    else:\n",
    "                        next_round_states.append(new_state)\n",
    "                        c.append(next_round_states.index(new_state))\n",
    "        current_connections.append(c)\n",
    "    connections.append(current_connections)\n",
    "    current_connections = []\n",
    "    states.append(next_round_states)\n",
    "    # remove states that won from the next round\n",
    "    victories = check_victory_mat(np.array(next_round_states))\n",
    "    current_round_states = np.array(next_round_states)\n",
    "    next_round_states = []\n",
    "\n",
    "    \n",
    "print_states(states)\n",
    "print('\\n')\n",
    "print_states(connections)"
   ]
  },
  {
   "cell_type": "code",
   "execution_count": 134,
   "metadata": {},
   "outputs": [],
   "source": []
  },
  {
   "cell_type": "code",
   "execution_count": 8,
   "metadata": {},
   "outputs": [
    {
     "name": "stdout",
     "output_type": "stream",
     "text": [
      "10\n",
      "1\n",
      "9\n",
      "72\n",
      "252\n",
      "756\n",
      "1260\n",
      "1520\n",
      "1140\n",
      "390\n",
      "78\n"
     ]
    }
   ],
   "source": [
    "V = []\n",
    "for s in states[0:]:\n",
    "    V.append(np.random.rand(len(s)))\n",
    "\n",
    "print_states(V)\n"
   ]
  },
  {
   "cell_type": "code",
   "execution_count": 9,
   "metadata": {},
   "outputs": [
    {
     "name": "stdout",
     "output_type": "stream",
     "text": [
      "0\n"
     ]
    },
    {
     "ename": "NameError",
     "evalue": "name 'gamma' is not defined",
     "output_type": "error",
     "traceback": [
      "\u001b[0;31m---------------------------------------------------------------------------\u001b[0m",
      "\u001b[0;31mNameError\u001b[0m                                 Traceback (most recent call last)",
      "Cell \u001b[0;32mIn[9], line 14\u001b[0m\n\u001b[1;32m     12\u001b[0m \u001b[38;5;28;01mif\u001b[39;00m reward \u001b[38;5;241m==\u001b[39m \u001b[38;5;241m0\u001b[39m:\n\u001b[1;32m     13\u001b[0m     opponent_actions \u001b[38;5;241m=\u001b[39m connections[i \u001b[38;5;241m+\u001b[39m \u001b[38;5;241m1\u001b[39m][a]\n\u001b[0;32m---> 14\u001b[0m     V_new\u001b[38;5;241m.\u001b[39mappend( \u001b[38;5;28msum\u001b[39m([check_victory(np\u001b[38;5;241m.\u001b[39marray(states[i \u001b[38;5;241m+\u001b[39m \u001b[38;5;241m2\u001b[39m][p])) \u001b[38;5;241m+\u001b[39m \u001b[43mgamma\u001b[49m \u001b[38;5;241m*\u001b[39m V[i \u001b[38;5;241m+\u001b[39m \u001b[38;5;241m2\u001b[39m][p] \u001b[38;5;28;01mfor\u001b[39;00m p \u001b[38;5;129;01min\u001b[39;00m opponent_actions])\u001b[38;5;241m/\u001b[39m \u001b[38;5;28mlen\u001b[39m(opponent_actions))\n\u001b[1;32m     16\u001b[0m     \u001b[38;5;66;03m#for p in opponent_actions:\u001b[39;00m\n\u001b[1;32m     17\u001b[0m         \u001b[38;5;66;03m#s = states[i + 2][p]\u001b[39;00m\n\u001b[1;32m     18\u001b[0m         \u001b[38;5;66;03m#reward = check_victory(np.array(s))\u001b[39;00m\n\u001b[1;32m     19\u001b[0m         \u001b[38;5;66;03m#V_prime = gamma * V[i + 1][p]]\u001b[39;00m\n\u001b[1;32m     20\u001b[0m \u001b[38;5;28;01melse\u001b[39;00m:\n\u001b[1;32m     21\u001b[0m     V_new\u001b[38;5;241m.\u001b[39mappend(reward)\n",
      "\u001b[0;31mNameError\u001b[0m: name 'gamma' is not defined"
     ]
    }
   ],
   "source": [
    "i = 0\n",
    "board = states[0][0]\n",
    "actions = connections[0][0] \n",
    "reward = check_victory(np.array(board))\n",
    "print(reward)\n",
    "#for i in range(9):\n",
    "V_new = []\n",
    "for a in actions:\n",
    "    #print(states[i + 1][a])\n",
    "    s = states[i + 1][a]\n",
    "    reward = check_victory(np.array(s))\n",
    "    if reward == 0:\n",
    "        opponent_actions = connections[i + 1][a]\n",
    "        V_new.append( sum([check_victory(np.array(states[i + 2][p])) + gamma * V[i + 2][p] for p in opponent_actions])/ len(opponent_actions))\n",
    "\n",
    "        #for p in opponent_actions:\n",
    "            #s = states[i + 2][p]\n",
    "            #reward = check_victory(np.array(s))\n",
    "            #V_prime = gamma * V[i + 1][p]]\n",
    "    else:\n",
    "        V_new.append(reward)\n",
    "\n",
    "    V_max = max(V_new)\n",
    "    a = np.argmax(V_new)\n",
    "\n",
    "print(V_new, V_max, a)"
   ]
  },
  {
   "cell_type": "code",
   "execution_count": 43,
   "metadata": {},
   "outputs": [],
   "source": [
    "def calculate_V(turn, i, verbose = False):\n",
    "\n",
    "    actions = connections[turn][i] \n",
    "    V_new = []\n",
    "    for a in actions:\n",
    "        s = states[turn + 1][a]\n",
    "        reward = check_victory(np.array(s))\n",
    "        if reward == 0 and turn != 8:\n",
    "            opponent_actions = connections[turn + 1][a]\n",
    "            V_new.append( sum([check_victory(np.array(states[turn + 2][p])) + gamma * V[turn + 2][p] for p in opponent_actions])/ len(opponent_actions))\n",
    "\n",
    "        else:\n",
    "            V_new.append(reward)\n",
    "    \n",
    "    if verbose == True:\n",
    "        print(V_new)\n",
    "        \n",
    "    V_max = max(V_new)\n",
    "    a = np.argmax(V_new)\n",
    "    return V_max, actions[a]\n",
    "\n",
    "\n",
    "    "
   ]
  },
  {
   "cell_type": "code",
   "execution_count": 53,
   "metadata": {},
   "outputs": [
    {
     "name": "stdout",
     "output_type": "stream",
     "text": [
      "[-0.25, -0.07500000000000001, -0.25, 0.0, -0.3375]\n",
      " [x o x] \n",
      " [- o -] \n",
      " [- - -] \n",
      "\n",
      "0.0 8\n",
      " [x o x] \n",
      " [x o -] \n",
      " [- - -] \n",
      "\n",
      " [x o x] \n",
      " [- o x] \n",
      " [- - -] \n",
      "\n",
      " [x o x] \n",
      " [- o -] \n",
      " [x - -] \n",
      "\n",
      " [x o x] \n",
      " [- o -] \n",
      " [- x -] \n",
      "\n",
      " [x o x] \n",
      " [- o -] \n",
      " [- - x] \n",
      "\n"
     ]
    }
   ],
   "source": [
    "turn = 4\n",
    "state_index = 1\n",
    "V_new, a_best = calculate_V(turn,state_index,verbose=True)\n",
    "print_board(states[turn][state_index])\n",
    "print(V_new, a_best)\n",
    "for a in connections[turn][state_index]:\n",
    "    print_board(states[turn + 1][a])"
   ]
  },
  {
   "cell_type": "code",
   "execution_count": 11,
   "metadata": {},
   "outputs": [],
   "source": [
    "def get_next_state(turn, i, a):\n",
    "    if np.random.random_sample() < epsilon:\n",
    "        a = np.random.choice(connections[turn][i])    \n",
    "    if check_victory(np.array(states[turn + 1][a])) != 0:\n",
    "        return None    \n",
    "    opponent_actions = connections[turn + 1][a]\n",
    "    p = np.random.choice(opponent_actions)\n",
    "    if check_victory(np.array(states[turn + 2][p])) != 0:\n",
    "        return None   \n",
    "    return p\n"
   ]
  },
  {
   "cell_type": "code",
   "execution_count": 12,
   "metadata": {},
   "outputs": [
    {
     "name": "stdout",
     "output_type": "stream",
     "text": [
      "[21, 22, 23, 24, 25, 26, 27]\n",
      "27\n"
     ]
    }
   ],
   "source": [
    "choice = np.random.choice(connections[2][3])\n",
    "print(connections[2][3])\n",
    "print(choice)"
   ]
  },
  {
   "cell_type": "code",
   "execution_count": 23,
   "metadata": {},
   "outputs": [
    {
     "name": "stdout",
     "output_type": "stream",
     "text": [
      "0.491\n",
      "0.511\n",
      "0.484\n",
      "0.528\n",
      "0.45\n",
      "0.517\n",
      "0.502\n",
      "0.498\n",
      "0.525\n",
      "0.502\n",
      "0.448\n",
      "0.494\n",
      "0.461\n",
      "0.507\n",
      "0.435\n",
      "0.496\n",
      "0.518\n",
      "0.449\n",
      "0.505\n"
     ]
    }
   ],
   "source": [
    "gamma = 0.7 # discount for future rewards\n",
    "epsilon = 0.5 # epsilon determines the exploration of not optimal actions. Higher epsilon = more exploration. between 0 and 1\n",
    "\n",
    "def choose_next_action(best_action, possible_actions):\n",
    "    if np.random.random_sample() < epsilon:\n",
    "        action = np.random.choice(possible_actions)\n",
    "    else: \n",
    "        action = best_action\n",
    "    return action\n",
    "\n",
    "def assign_V(V_new, turn, state_index):\n",
    "    residuum = np.abs(V[turn][state_index] - V_new)\n",
    "    V[turn][state_index] = V_new\n",
    "    return residuum\n",
    "\n",
    "V = []\n",
    "#for s in states[0:]:\n",
    "#    V.append(np.random.rand(len(s)))\n",
    "for s in states[0:]:\n",
    "    V.append(np.zeros(len(s)))    \n",
    "\n",
    "for i in range(200):\n",
    "    residuum = []\n",
    "    state_index = 0 # innitial starting board\n",
    "    for turn in np.arange(0,9):\n",
    "        possible_actions = connections[turn][state_index]\n",
    "        if turn%2 == 0:\n",
    "            V_new, best_action = calculate_V(turn, state_index)\n",
    "            res = assign_V(V_new, turn, state_index)\n",
    "            residuum.append(res)\n",
    "            action = choose_next_action(best_action, possible_actions)    \n",
    "        else: \n",
    "            action = np.random.choice(possible_actions)\n",
    "        #print(turn, state_index, action)\n",
    "        #print_board(states[turn + 1][action])\n",
    "        state_index = action\n",
    "        if check_victory(np.array(states[turn + 1][action])) != 0:\n",
    "            break  \n",
    "    #print(i, np.sum(residuum)/len(residuum))\n",
    "    if i > 0 and i%10 == 0:\n",
    "        n = 1000\n",
    "        rewards = sum([play_game(V) for i in range(n)])/n\n",
    "        print(rewards)"
   ]
  },
  {
   "cell_type": "code",
   "execution_count": 264,
   "metadata": {},
   "outputs": [
    {
     "data": {
      "text/plain": [
       "0"
      ]
     },
     "execution_count": 264,
     "metadata": {},
     "output_type": "execute_result"
    }
   ],
   "source": [
    "0%1000"
   ]
  },
  {
   "cell_type": "code",
   "execution_count": 14,
   "metadata": {},
   "outputs": [
    {
     "name": "stdout",
     "output_type": "stream",
     "text": [
      "0.449\n"
     ]
    }
   ],
   "source": [
    "def get_best_action(V, turn, state_index):\n",
    "    actions = connections[turn][state_index]\n",
    "    v_arr = [V[turn + 1][a] for a in actions]\n",
    "    best_action = actions[np.argmax(v_arr)] \n",
    "    return best_action\n",
    "action = get_best_action(V, 5, 5)   \n",
    "\n",
    "\n",
    "def play_game(V, verbose = False):\n",
    "    a = 0\n",
    "    for t in range(9):\n",
    "        s = states[t][a]\n",
    "        if verbose:\n",
    "            print_board(s)\n",
    "        reward = check_victory(np.array(s))\n",
    "        if reward != 0:\n",
    "            return reward    \n",
    "        elif t%2 != 0:\n",
    "            next_moves = connections[t][a]\n",
    "            a = np.random.choice(next_moves)\n",
    "        else:\n",
    "            a = get_best_action(V, t, a)  \n",
    "    return 0\n",
    "\n",
    "\n",
    "n = 1000\n",
    "rewards = sum([play_game(V) for i in range(n)])/n\n",
    "print(rewards)\n",
    "             "
   ]
  },
  {
   "cell_type": "code",
   "execution_count": 42,
   "metadata": {},
   "outputs": [
    {
     "name": "stdout",
     "output_type": "stream",
     "text": [
      " [- - -] \n",
      " [- - -] \n",
      " [- - -] \n",
      "\n",
      " [x - -] \n",
      " [- - -] \n",
      " [- - -] \n",
      "\n",
      " [x - o] \n",
      " [- - -] \n",
      " [- - -] \n",
      "\n",
      " [x x o] \n",
      " [- - -] \n",
      " [- - -] \n",
      "\n",
      " [x x o] \n",
      " [- - -] \n",
      " [- - o] \n",
      "\n",
      " [x x o] \n",
      " [x - -] \n",
      " [- - o] \n",
      "\n",
      " [x x o] \n",
      " [x - -] \n",
      " [- o o] \n",
      "\n",
      " [x x o] \n",
      " [x x -] \n",
      " [- o o] \n",
      "\n",
      " [x x o] \n",
      " [x x o] \n",
      " [- o o] \n",
      "\n"
     ]
    },
    {
     "data": {
      "text/plain": [
       "-1"
      ]
     },
     "execution_count": 42,
     "metadata": {},
     "output_type": "execute_result"
    }
   ],
   "source": [
    "play_game(V, verbose=True)"
   ]
  },
  {
   "cell_type": "code",
   "execution_count": 16,
   "metadata": {},
   "outputs": [
    {
     "name": "stdout",
     "output_type": "stream",
     "text": [
      "0 0 7\n",
      " [- - -] \n",
      " [- - -] \n",
      " [- - -] \n",
      "\n",
      "2 63 146\n",
      " [- - -] \n",
      " [- - -] \n",
      " [- x o] \n",
      "\n",
      "4 435 953\n",
      " [- - x] \n",
      " [- - -] \n",
      " [o x o] \n",
      "\n",
      "6 1088 959\n",
      " [- o x] \n",
      " [- - x] \n",
      " [o x o] \n",
      "\n",
      "8 305 68\n",
      " [o o x] \n",
      " [x - x] \n",
      " [o x o] \n",
      "\n"
     ]
    }
   ],
   "source": [
    "gamma = 0.5 # discount for future rewards\n",
    "epsilon = 0.0 # epsilon determines the exploration of not optimal actions. Higher epsilon = more exploration. between 0 and 1\n",
    "\n",
    "V = []\n",
    "for s in states[0:]:\n",
    "    V.append(np.random.rand(len(s)))\n",
    "\n",
    "state_index = 0 # innitial starting board\n",
    "action = 0\n",
    "for turn in np.arange(0,9,2):\n",
    "    V_new, action = calculate_V(turn, state_index)\n",
    "    V[turn][state_index] = V_new\n",
    "    print(turn, state_index, action)\n",
    "    print_board(states[turn][state_index])\n",
    "    if turn < 8:\n",
    "        state_index = get_next_state(turn, state_index, action)\n",
    "        if not state_index:\n",
    "            break    \n",
    "    \n"
   ]
  },
  {
   "cell_type": "code",
   "execution_count": 17,
   "metadata": {},
   "outputs": [
    {
     "name": "stdout",
     "output_type": "stream",
     "text": [
      " [- - -] \n",
      " [- - -] \n",
      " [- - -] \n",
      "\n",
      " [- - -] \n",
      " [- x -] \n",
      " [- - -] \n",
      "\n",
      " [- - -] \n",
      " [o x -] \n",
      " [- - -] \n",
      "\n",
      " [- - -] \n",
      " [o x -] \n",
      " [- x -] \n",
      "\n",
      " [- - -] \n",
      " [o x o] \n",
      " [- x -] \n",
      "\n",
      " [- - -] \n",
      " [o x o] \n",
      " [x x -] \n",
      "\n",
      " [- - -] \n",
      " [o x o] \n",
      " [x x o] \n",
      "\n",
      " [x - -] \n",
      " [o x o] \n",
      " [x x o] \n",
      "\n",
      " [x - o] \n",
      " [o x o] \n",
      " [x x o] \n",
      "\n"
     ]
    }
   ],
   "source": [
    "a = 0\n",
    "for t in range(9):\n",
    "    s = states[t][a]\n",
    "    print_board(s)\n",
    "    next_moves = connections[t][a]\n",
    "    if not next_moves:\n",
    "        break\n",
    "    a = np.random.choice(next_moves)"
   ]
  }
 ],
 "metadata": {
  "kernelspec": {
   "display_name": "pytorch",
   "language": "python",
   "name": "python3"
  },
  "language_info": {
   "codemirror_mode": {
    "name": "ipython",
    "version": 3
   },
   "file_extension": ".py",
   "mimetype": "text/x-python",
   "name": "python",
   "nbconvert_exporter": "python",
   "pygments_lexer": "ipython3",
   "version": "3.12.0"
  }
 },
 "nbformat": 4,
 "nbformat_minor": 2
}

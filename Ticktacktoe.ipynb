{
 "cells": [
  {
   "cell_type": "code",
   "execution_count": 94,
   "metadata": {},
   "outputs": [],
   "source": [
    "import numpy as np\n",
    "import math"
   ]
  },
  {
   "cell_type": "code",
   "execution_count": 95,
   "metadata": {},
   "outputs": [
    {
     "name": "stdout",
     "output_type": "stream",
     "text": [
      "1\n",
      "0\n",
      "-1\n"
     ]
    },
    {
     "data": {
      "text/plain": [
       "array([ 1,  0, -1])"
      ]
     },
     "execution_count": 95,
     "metadata": {},
     "output_type": "execute_result"
    }
   ],
   "source": [
    "v_states = [\n",
    "            [1,1,1,0,0,0,0,0,0],\n",
    "            [0,0,0,1,1,1,0,0,0],\n",
    "            [0,0,0,0,0,0,1,1,1],\n",
    "            [1,0,0,1,0,0,1,0,0],\n",
    "            [0,1,0,0,1,0,0,1,0],\n",
    "            [0,0,1,0,0,1,0,0,1],\n",
    "            [1,0,0,0,1,0,0,0,1],\n",
    "            [0,0,1,0,1,0,1,0,0],\n",
    "            ]\n",
    "\n",
    "def check_victory(s):\n",
    "    # s is a length 9 array\n",
    "    x = s == 1\n",
    "    o = s == 2\n",
    "    sx = v_states @ x\n",
    "    so = v_states @ o\n",
    "    if sx.max() == 3:\n",
    "        return 1\n",
    "    elif so.max() == 3:\n",
    "        return -1\n",
    "    else:\n",
    "        return 0\n",
    "\n",
    "def check_victory_mat(s):\n",
    "    # s is matrix of n x 9 dimension\n",
    "    # matrix product with vicory states: s @ v = n x 9 @ 9 x 8 -> n x 8 \n",
    "    # a value of 3 in the output means a victory \n",
    "    x = s == 1\n",
    "    o = s == 2\n",
    "    sx = v_states @ np.transpose(x)\n",
    "    so = v_states @ np.transpose(o)\n",
    "    sx = sx.max(axis = 0)\n",
    "    so = so.max(axis = 0)\n",
    "    sx = (sx == 3) * 1\n",
    "    so = (so == 3) * -1\n",
    "    return so + sx\n",
    "   \n",
    "s_test = np.array([[2,1,1,0,0,1,2,2,1],\n",
    "                  [2,1,2,0,0,1,2,2,1],\n",
    "                  [2,1,2,0,0,2,2,2,2]])\n",
    "for s in s_test:\n",
    "    print(check_victory(s))\n",
    "\n",
    "check_victory_mat(s_test)    "
   ]
  },
  {
   "cell_type": "code",
   "execution_count": 96,
   "metadata": {},
   "outputs": [
    {
     "name": "stdout",
     "output_type": "stream",
     "text": [
      "10\n",
      "1\n",
      "9\n",
      "72\n",
      "252\n",
      "756\n",
      "1260\n",
      "1520\n",
      "1140\n",
      "390\n",
      "78\n",
      "\n",
      "\n",
      "9\n",
      "1\n",
      "9\n",
      "72\n",
      "252\n",
      "756\n",
      "1260\n",
      "1520\n",
      "1140\n",
      "390\n"
     ]
    }
   ],
   "source": [
    "def print_board(s):\n",
    "    x = ['-', 'x', 'o']\n",
    "    print(f' [{x[s[0]]} {x[s[1]]} {x[s[2]]}] \\n [{x[s[3]]} {x[s[4]]} {x[s[5]]}] \\n [{x[s[6]]} {x[s[7]]} {x[s[8]]}] \\n')\n",
    "\n",
    "def print_states(states):\n",
    "    print(len(states)) \n",
    "    for s in states:\n",
    "        print(len(s)) \n",
    "\n",
    "# get all tick tack toe states. 0 is empty, 1 is x and 2 is o\n",
    "board = [0 for i in range(9)]\n",
    "states = [[board]]\n",
    "current_round_states = [board]\n",
    "next_round_states = []\n",
    "connections = []\n",
    "current_connections = []\n",
    "# iteration over all steps to fill the board\n",
    "for i in range(9):\n",
    "    #iteration over all states of the previous step\n",
    "    for j, s in enumerate(current_round_states):\n",
    "        # check if the step is even. If yes, add a x otherwise an o\n",
    "        if i % 2 == 0:\n",
    "            x = 1\n",
    "        else:\n",
    "            x = 2    \n",
    "        # go through all fields\n",
    "        c = []\n",
    "        # check if state was victorios. Only calculate next states if the state wasn't victorios \n",
    "        if check_victory(np.array(s)) == 0:\n",
    "            for k in range(9):\n",
    "                new_state = list(s).copy()\n",
    "                # check if field is taken\n",
    "                if s[k] == 0:\n",
    "                    new_state[k] = x\n",
    "                    if new_state in next_round_states:\n",
    "                        c.append(next_round_states.index(new_state))\n",
    "                    else:\n",
    "                        next_round_states.append(new_state)\n",
    "                        c.append(next_round_states.index(new_state))\n",
    "        current_connections.append(c)\n",
    "    connections.append(current_connections)\n",
    "    current_connections = []\n",
    "    states.append(next_round_states)\n",
    "    # remove states that won from the next round\n",
    "    victories = check_victory_mat(np.array(next_round_states))\n",
    "    current_round_states = np.array(next_round_states)\n",
    "    next_round_states = []\n",
    "\n",
    "    \n",
    "print_states(states)\n",
    "print('\\n')\n",
    "print_states(connections)"
   ]
  },
  {
   "cell_type": "code",
   "execution_count": 108,
   "metadata": {},
   "outputs": [
    {
     "name": "stdout",
     "output_type": "stream",
     "text": [
      "10\n",
      "1\n",
      "9\n",
      "72\n",
      "252\n",
      "756\n",
      "1260\n",
      "1520\n",
      "1140\n",
      "390\n",
      "78\n"
     ]
    }
   ],
   "source": [
    "V = []\n",
    "for s in states[0:]:\n",
    "    V.append(np.random.rand(len(s)))\n",
    "\n",
    "print_states(V)\n"
   ]
  },
  {
   "cell_type": "code",
   "execution_count": null,
   "metadata": {},
   "outputs": [],
   "source": [
    "gamma = 0.5\n",
    "def calc_V(turn, i, verbose = False):\n",
    "\n",
    "    actions = connections[turn][i] \n",
    "    V_new = []\n",
    "    for a in actions:\n",
    "        s = states[turn + 1][a]\n",
    "        reward = check_victory(np.array(s))\n",
    "        if reward == 0 and turn != 8:\n",
    "            V_new.append( gamma * V[turn + 1][a])\n",
    "\n",
    "        else:\n",
    "            V_new.append(reward)\n",
    "    \n",
    "    if verbose == True:\n",
    "        print(V_new)\n",
    "\n",
    "    if i%2==0:    \n",
    "        V_max = max(V_new)\n",
    "        a = np.argmax(V_new)\n",
    "    else: \n",
    "        V_max = min(V_new)\n",
    "        a = np.argmin(V_new)\n",
    "        \n",
    "    return V_max, actions[a]"
   ]
  },
  {
   "cell_type": "code",
   "execution_count": 98,
   "metadata": {},
   "outputs": [],
   "source": [
    "def calculate_V(turn, i, verbose = False):\n",
    "\n",
    "    actions = connections[turn][i] \n",
    "    V_new = []\n",
    "    for a in actions:\n",
    "        s = states[turn + 1][a]\n",
    "        reward = check_victory(np.array(s))\n",
    "        if reward == 0 and turn != 8:\n",
    "            opponent_actions = connections[turn + 1][a]\n",
    "            V_new.append( sum([check_victory(np.array(states[turn + 2][p])) + gamma * V[turn + 2][p] for p in opponent_actions])/ len(opponent_actions))\n",
    "\n",
    "        else:\n",
    "            V_new.append(reward)\n",
    "    \n",
    "    if verbose == True:\n",
    "        print(V_new)\n",
    "        \n",
    "    V_max = max(V_new)\n",
    "    a = np.argmax(V_new)\n",
    "    return V_max, actions[a]\n",
    "\n",
    "\n",
    "    "
   ]
  },
  {
   "cell_type": "code",
   "execution_count": 113,
   "metadata": {},
   "outputs": [
    {
     "name": "stdout",
     "output_type": "stream",
     "text": [
      "[0.175, 0.41124999999999995, 0.0, 0.0, 0.0]\n",
      "0.175\n",
      " [x o x] \n",
      " [o - -] \n",
      " [- - -] \n",
      "\n",
      "0.41124999999999995 1\n",
      " [x o x] \n",
      " [o - x] \n",
      " [- - -] \n",
      "\n",
      "0\n",
      " [x o x] \n",
      " [o x -] \n",
      " [- - -] \n",
      "\n",
      "1\n",
      " [x o x] \n",
      " [o - x] \n",
      " [- - -] \n",
      "\n",
      "2\n",
      " [x o x] \n",
      " [o - -] \n",
      " [x - -] \n",
      "\n",
      "3\n",
      " [x o x] \n",
      " [o - -] \n",
      " [- x -] \n",
      "\n",
      "4\n",
      " [x o x] \n",
      " [o - -] \n",
      " [- - x] \n",
      "\n"
     ]
    }
   ],
   "source": [
    "turn = 4\n",
    "state_index = 0\n",
    "V_new, a_best = calculate_V(turn,state_index,verbose=True)\n",
    "print(V[turn][state_index])\n",
    "print_board(states[turn][state_index])\n",
    "print(V_new, a_best)\n",
    "print_board(states[turn + 1][a_best])\n",
    "for a in connections[turn][state_index]:\n",
    "    print(a)\n",
    "    print_board(states[turn + 1][a])"
   ]
  },
  {
   "cell_type": "code",
   "execution_count": 101,
   "metadata": {},
   "outputs": [],
   "source": [
    "def get_next_state(turn, i, a):\n",
    "    if np.random.random_sample() < epsilon:\n",
    "        a = np.random.choice(connections[turn][i])    \n",
    "    if check_victory(np.array(states[turn + 1][a])) != 0:\n",
    "        return None    \n",
    "    opponent_actions = connections[turn + 1][a]\n",
    "    p = np.random.choice(opponent_actions)\n",
    "    if check_victory(np.array(states[turn + 2][p])) != 0:\n",
    "        return None   \n",
    "    return p\n"
   ]
  },
  {
   "cell_type": "code",
   "execution_count": 102,
   "metadata": {},
   "outputs": [
    {
     "name": "stdout",
     "output_type": "stream",
     "text": [
      "[21, 22, 23, 24, 25, 26, 27]\n",
      "25\n"
     ]
    }
   ],
   "source": [
    "choice = np.random.choice(connections[2][3])\n",
    "print(connections[2][3])\n",
    "print(choice)"
   ]
  },
  {
   "cell_type": "code",
   "execution_count": 103,
   "metadata": {},
   "outputs": [
    {
     "name": "stdout",
     "output_type": "stream",
     "text": [
      "0.244\n"
     ]
    }
   ],
   "source": [
    "def get_best_action(V, turn, state_index):\n",
    "    actions = connections[turn][state_index]\n",
    "    v_arr = [V[turn + 1][a] for a in actions]\n",
    "    best_action = actions[np.argmax(v_arr)] \n",
    "    return best_action\n",
    "action = get_best_action(V, 5, 5)   \n",
    "\n",
    "\n",
    "def play_game(V, verbose = False):\n",
    "    a = 0\n",
    "    for t in range(9):\n",
    "        s = states[t][a]\n",
    "        if verbose:\n",
    "            print_board(s)\n",
    "        reward = check_victory(np.array(s))\n",
    "        if reward != 0:\n",
    "            return reward    \n",
    "        elif t%2 != 0:\n",
    "            next_moves = connections[t][a]\n",
    "            a = np.random.choice(next_moves)\n",
    "        else:\n",
    "            a = get_best_action(V, t, a)  \n",
    "    return 0\n",
    "\n",
    "\n",
    "n = 1000\n",
    "rewards = sum([play_game(V) for i in range(n)])/n\n",
    "print(rewards)"
   ]
  },
  {
   "cell_type": "code",
   "execution_count": null,
   "metadata": {},
   "outputs": [
    {
     "name": "stdout",
     "output_type": "stream",
     "text": [
      "0.497\n",
      "0.48\n",
      "0.539\n",
      "0.424\n",
      "0.475\n",
      "0.536\n",
      "0.478\n",
      "0.493\n",
      "0.506\n",
      "0.491\n",
      "0.467\n",
      "0.474\n",
      "0.495\n",
      "0.436\n",
      "0.5\n",
      "0.472\n",
      "0.492\n",
      "0.505\n",
      "0.492\n"
     ]
    }
   ],
   "source": [
    "gamma = 0.7 # discount for future rewards\n",
    "epsilon = 0.5 # epsilon determines the exploration of not optimal actions. Higher epsilon = more exploration. between 0 and 1\n",
    "\n",
    "def choose_next_action(best_action, possible_actions):\n",
    "    if np.random.random_sample() < epsilon:\n",
    "        action = np.random.choice(possible_actions)\n",
    "    else: \n",
    "        action = best_action\n",
    "    return action\n",
    "\n",
    "def assign_V(V, V_new, turn, state_index):\n",
    "    residuum = np.abs(V[turn][state_index] - V_new)\n",
    "    V[turn][state_index] = V_new\n",
    "    return residuum\n",
    "\n",
    "def initialize_V():\n",
    "    V = []\n",
    "    for s in states[0:]:\n",
    "        V.append(np.zeros(len(s)))  \n",
    "    return V      \n",
    "\n",
    "def iterate_V(V):\n",
    "    state_index = 0 # innitial starting board\n",
    "    for turn in np.arange(0,9):\n",
    "        possible_actions = connections[turn][state_index]\n",
    "        if turn%2 == 0:\n",
    "            V_new, best_action = calculate_V(turn, state_index)\n",
    "            V[turn][state_index] = V_new\n",
    "            action = choose_next_action(best_action, possible_actions)    \n",
    "        else: \n",
    "            action = np.random.choice(possible_actions)\n",
    "        state_index = action\n",
    "        if check_victory(np.array(states[turn + 1][action])) != 0:\n",
    "            break  \n",
    "    return V\n",
    "\n",
    "V = initialize_V()\n",
    "for i in range(200):\n",
    "    residuum = []\n",
    "    V = iterate_V(V)\n",
    "    if i > 0 and i%10 == 0:\n",
    "        n = 1000\n",
    "        rewards = sum([play_game(V) for i in range(n)])/n\n",
    "        print(rewards)"
   ]
  },
  {
   "cell_type": "code",
   "execution_count": 105,
   "metadata": {},
   "outputs": [
    {
     "name": "stdout",
     "output_type": "stream",
     "text": [
      " [- - -] \n",
      " [- - -] \n",
      " [- - -] \n",
      "\n",
      " [x - -] \n",
      " [- - -] \n",
      " [- - -] \n",
      "\n",
      " [x - -] \n",
      " [- - -] \n",
      " [- - o] \n",
      "\n",
      " [x x -] \n",
      " [- - -] \n",
      " [- - o] \n",
      "\n",
      " [x x -] \n",
      " [- - -] \n",
      " [o - o] \n",
      "\n",
      " [x x x] \n",
      " [- - -] \n",
      " [o - o] \n",
      "\n"
     ]
    },
    {
     "data": {
      "text/plain": [
       "1"
      ]
     },
     "execution_count": 105,
     "metadata": {},
     "output_type": "execute_result"
    }
   ],
   "source": [
    "play_game(V, verbose=True)"
   ]
  },
  {
   "cell_type": "code",
   "execution_count": 106,
   "metadata": {},
   "outputs": [
    {
     "name": "stdout",
     "output_type": "stream",
     "text": [
      "0 0 5\n",
      " [- - -] \n",
      " [- - -] \n",
      " [- - -] \n",
      "\n",
      "2 43 221\n",
      " [- - -] \n",
      " [o - x] \n",
      " [- - -] \n",
      "\n",
      "4 682 886\n",
      " [- - -] \n",
      " [o - x] \n",
      " [o - x] \n",
      "\n"
     ]
    }
   ],
   "source": [
    "gamma = 0.5 # discount for future rewards\n",
    "epsilon = 0.0 # epsilon determines the exploration of not optimal actions. Higher epsilon = more exploration. between 0 and 1\n",
    "\n",
    "V = []\n",
    "for s in states[0:]:\n",
    "    V.append(np.random.rand(len(s)))\n",
    "\n",
    "state_index = 0 # innitial starting board\n",
    "action = 0\n",
    "for turn in np.arange(0,9,2):\n",
    "    V_new, action = calculate_V(turn, state_index)\n",
    "    V[turn][state_index] = V_new\n",
    "    print(turn, state_index, action)\n",
    "    print_board(states[turn][state_index])\n",
    "    if turn < 8:\n",
    "        state_index = get_next_state(turn, state_index, action)\n",
    "        if not state_index:\n",
    "            break    \n",
    "    \n"
   ]
  },
  {
   "cell_type": "code",
   "execution_count": 107,
   "metadata": {},
   "outputs": [
    {
     "name": "stdout",
     "output_type": "stream",
     "text": [
      " [- - -] \n",
      " [- - -] \n",
      " [- - -] \n",
      "\n",
      " [- - -] \n",
      " [- x -] \n",
      " [- - -] \n",
      "\n",
      " [- - -] \n",
      " [- x -] \n",
      " [- o -] \n",
      "\n",
      " [- - x] \n",
      " [- x -] \n",
      " [- o -] \n",
      "\n",
      " [- - x] \n",
      " [- x o] \n",
      " [- o -] \n",
      "\n",
      " [- - x] \n",
      " [- x o] \n",
      " [x o -] \n",
      "\n"
     ]
    }
   ],
   "source": [
    "a = 0\n",
    "for t in range(9):\n",
    "    s = states[t][a]\n",
    "    print_board(s)\n",
    "    next_moves = connections[t][a]\n",
    "    if not next_moves:\n",
    "        break\n",
    "    a = np.random.choice(next_moves)"
   ]
  }
 ],
 "metadata": {
  "kernelspec": {
   "display_name": "pytorch",
   "language": "python",
   "name": "python3"
  },
  "language_info": {
   "codemirror_mode": {
    "name": "ipython",
    "version": 3
   },
   "file_extension": ".py",
   "mimetype": "text/x-python",
   "name": "python",
   "nbconvert_exporter": "python",
   "pygments_lexer": "ipython3",
   "version": "3.12.0"
  }
 },
 "nbformat": 4,
 "nbformat_minor": 2
}
